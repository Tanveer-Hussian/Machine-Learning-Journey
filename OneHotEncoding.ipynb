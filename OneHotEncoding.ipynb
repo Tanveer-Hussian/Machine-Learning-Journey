{
 "cells": [
  {
   "cell_type": "code",
   "execution_count": 1,
   "id": "b1cbb857-a305-4c59-b902-7d18e6e7368a",
   "metadata": {},
   "outputs": [],
   "source": [
    "import numpy as np \n",
    "import pandas as pd"
   ]
  },
  {
   "cell_type": "code",
   "execution_count": 18,
   "id": "dc10a276-e518-46b0-b119-d6121a054c5c",
   "metadata": {},
   "outputs": [],
   "source": [
    "df = pd.read_csv('cars.csv')"
   ]
  },
  {
   "cell_type": "code",
   "execution_count": 53,
   "id": "01089ac2-ec37-44c4-a7ad-93da2e73458f",
   "metadata": {},
   "outputs": [
    {
     "data": {
      "text/html": [
       "<div>\n",
       "<style scoped>\n",
       "    .dataframe tbody tr th:only-of-type {\n",
       "        vertical-align: middle;\n",
       "    }\n",
       "\n",
       "    .dataframe tbody tr th {\n",
       "        vertical-align: top;\n",
       "    }\n",
       "\n",
       "    .dataframe thead th {\n",
       "        text-align: right;\n",
       "    }\n",
       "</style>\n",
       "<table border=\"1\" class=\"dataframe\">\n",
       "  <thead>\n",
       "    <tr style=\"text-align: right;\">\n",
       "      <th></th>\n",
       "      <th>brand</th>\n",
       "      <th>km_driven</th>\n",
       "      <th>fuel</th>\n",
       "      <th>owner</th>\n",
       "      <th>selling_price</th>\n",
       "    </tr>\n",
       "  </thead>\n",
       "  <tbody>\n",
       "    <tr>\n",
       "      <th>7113</th>\n",
       "      <td>Maruti</td>\n",
       "      <td>120000</td>\n",
       "      <td>Diesel</td>\n",
       "      <td>Second Owner</td>\n",
       "      <td>200000</td>\n",
       "    </tr>\n",
       "    <tr>\n",
       "      <th>6212</th>\n",
       "      <td>Maruti</td>\n",
       "      <td>9000</td>\n",
       "      <td>Diesel</td>\n",
       "      <td>First Owner</td>\n",
       "      <td>890000</td>\n",
       "    </tr>\n",
       "    <tr>\n",
       "      <th>6234</th>\n",
       "      <td>Mahindra</td>\n",
       "      <td>80000</td>\n",
       "      <td>Diesel</td>\n",
       "      <td>First Owner</td>\n",
       "      <td>499000</td>\n",
       "    </tr>\n",
       "    <tr>\n",
       "      <th>4741</th>\n",
       "      <td>Mahindra</td>\n",
       "      <td>117000</td>\n",
       "      <td>Diesel</td>\n",
       "      <td>First Owner</td>\n",
       "      <td>800000</td>\n",
       "    </tr>\n",
       "    <tr>\n",
       "      <th>5060</th>\n",
       "      <td>Toyota</td>\n",
       "      <td>250000</td>\n",
       "      <td>Diesel</td>\n",
       "      <td>Fourth &amp; Above Owner</td>\n",
       "      <td>100000</td>\n",
       "    </tr>\n",
       "  </tbody>\n",
       "</table>\n",
       "</div>"
      ],
      "text/plain": [
       "         brand  km_driven    fuel                 owner  selling_price\n",
       "7113    Maruti     120000  Diesel          Second Owner         200000\n",
       "6212    Maruti       9000  Diesel           First Owner         890000\n",
       "6234  Mahindra      80000  Diesel           First Owner         499000\n",
       "4741  Mahindra     117000  Diesel           First Owner         800000\n",
       "5060    Toyota     250000  Diesel  Fourth & Above Owner         100000"
      ]
     },
     "execution_count": 53,
     "metadata": {},
     "output_type": "execute_result"
    }
   ],
   "source": [
    "df.sample(5)"
   ]
  },
  {
   "cell_type": "code",
   "execution_count": 6,
   "id": "570aff20-1001-4601-b41e-9349132aea9c",
   "metadata": {},
   "outputs": [
    {
     "data": {
      "text/plain": [
       "32"
      ]
     },
     "execution_count": 6,
     "metadata": {},
     "output_type": "execute_result"
    }
   ],
   "source": [
    "# df['brand'].value_counts()\n",
    "df['brand'].nunique()  # 32 Brands"
   ]
  },
  {
   "cell_type": "code",
   "execution_count": 7,
   "id": "d3869a67-0740-4d42-a838-8ae92a8a8ba2",
   "metadata": {
    "collapsed": true,
    "jupyter": {
     "outputs_hidden": true
    }
   },
   "outputs": [
    {
     "data": {
      "text/plain": [
       "fuel\n",
       "Diesel    4402\n",
       "Petrol    3631\n",
       "CNG         57\n",
       "LPG         38\n",
       "Name: count, dtype: int64"
      ]
     },
     "execution_count": 7,
     "metadata": {},
     "output_type": "execute_result"
    }
   ],
   "source": [
    "df['fuel'].value_counts()"
   ]
  },
  {
   "cell_type": "markdown",
   "id": "6ab0fead-97d0-4829-b781-092d68c0d6b5",
   "metadata": {},
   "source": [
    "# One Hot Encoding using Pandas "
   ]
  },
  {
   "cell_type": "code",
   "execution_count": 13,
   "id": "1fccd700-4f3d-4c31-9dd4-af2a2c8c657c",
   "metadata": {
    "collapsed": true,
    "jupyter": {
     "outputs_hidden": true
    }
   },
   "outputs": [
    {
     "data": {
      "text/html": [
       "<div>\n",
       "<style scoped>\n",
       "    .dataframe tbody tr th:only-of-type {\n",
       "        vertical-align: middle;\n",
       "    }\n",
       "\n",
       "    .dataframe tbody tr th {\n",
       "        vertical-align: top;\n",
       "    }\n",
       "\n",
       "    .dataframe thead th {\n",
       "        text-align: right;\n",
       "    }\n",
       "</style>\n",
       "<table border=\"1\" class=\"dataframe\">\n",
       "  <thead>\n",
       "    <tr style=\"text-align: right;\">\n",
       "      <th></th>\n",
       "      <th>brand</th>\n",
       "      <th>km_driven</th>\n",
       "      <th>selling_price</th>\n",
       "      <th>fuel_Diesel</th>\n",
       "      <th>fuel_LPG</th>\n",
       "      <th>fuel_Petrol</th>\n",
       "      <th>owner_Fourth &amp; Above Owner</th>\n",
       "      <th>owner_Second Owner</th>\n",
       "      <th>owner_Test Drive Car</th>\n",
       "      <th>owner_Third Owner</th>\n",
       "    </tr>\n",
       "  </thead>\n",
       "  <tbody>\n",
       "    <tr>\n",
       "      <th>0</th>\n",
       "      <td>Maruti</td>\n",
       "      <td>145500</td>\n",
       "      <td>450000</td>\n",
       "      <td>True</td>\n",
       "      <td>False</td>\n",
       "      <td>False</td>\n",
       "      <td>False</td>\n",
       "      <td>False</td>\n",
       "      <td>False</td>\n",
       "      <td>False</td>\n",
       "    </tr>\n",
       "    <tr>\n",
       "      <th>1</th>\n",
       "      <td>Skoda</td>\n",
       "      <td>120000</td>\n",
       "      <td>370000</td>\n",
       "      <td>True</td>\n",
       "      <td>False</td>\n",
       "      <td>False</td>\n",
       "      <td>False</td>\n",
       "      <td>True</td>\n",
       "      <td>False</td>\n",
       "      <td>False</td>\n",
       "    </tr>\n",
       "    <tr>\n",
       "      <th>2</th>\n",
       "      <td>Honda</td>\n",
       "      <td>140000</td>\n",
       "      <td>158000</td>\n",
       "      <td>False</td>\n",
       "      <td>False</td>\n",
       "      <td>True</td>\n",
       "      <td>False</td>\n",
       "      <td>False</td>\n",
       "      <td>False</td>\n",
       "      <td>True</td>\n",
       "    </tr>\n",
       "    <tr>\n",
       "      <th>3</th>\n",
       "      <td>Hyundai</td>\n",
       "      <td>127000</td>\n",
       "      <td>225000</td>\n",
       "      <td>True</td>\n",
       "      <td>False</td>\n",
       "      <td>False</td>\n",
       "      <td>False</td>\n",
       "      <td>False</td>\n",
       "      <td>False</td>\n",
       "      <td>False</td>\n",
       "    </tr>\n",
       "    <tr>\n",
       "      <th>4</th>\n",
       "      <td>Maruti</td>\n",
       "      <td>120000</td>\n",
       "      <td>130000</td>\n",
       "      <td>False</td>\n",
       "      <td>False</td>\n",
       "      <td>True</td>\n",
       "      <td>False</td>\n",
       "      <td>False</td>\n",
       "      <td>False</td>\n",
       "      <td>False</td>\n",
       "    </tr>\n",
       "    <tr>\n",
       "      <th>...</th>\n",
       "      <td>...</td>\n",
       "      <td>...</td>\n",
       "      <td>...</td>\n",
       "      <td>...</td>\n",
       "      <td>...</td>\n",
       "      <td>...</td>\n",
       "      <td>...</td>\n",
       "      <td>...</td>\n",
       "      <td>...</td>\n",
       "      <td>...</td>\n",
       "    </tr>\n",
       "    <tr>\n",
       "      <th>8123</th>\n",
       "      <td>Hyundai</td>\n",
       "      <td>110000</td>\n",
       "      <td>320000</td>\n",
       "      <td>False</td>\n",
       "      <td>False</td>\n",
       "      <td>True</td>\n",
       "      <td>False</td>\n",
       "      <td>False</td>\n",
       "      <td>False</td>\n",
       "      <td>False</td>\n",
       "    </tr>\n",
       "    <tr>\n",
       "      <th>8124</th>\n",
       "      <td>Hyundai</td>\n",
       "      <td>119000</td>\n",
       "      <td>135000</td>\n",
       "      <td>True</td>\n",
       "      <td>False</td>\n",
       "      <td>False</td>\n",
       "      <td>True</td>\n",
       "      <td>False</td>\n",
       "      <td>False</td>\n",
       "      <td>False</td>\n",
       "    </tr>\n",
       "    <tr>\n",
       "      <th>8125</th>\n",
       "      <td>Maruti</td>\n",
       "      <td>120000</td>\n",
       "      <td>382000</td>\n",
       "      <td>True</td>\n",
       "      <td>False</td>\n",
       "      <td>False</td>\n",
       "      <td>False</td>\n",
       "      <td>False</td>\n",
       "      <td>False</td>\n",
       "      <td>False</td>\n",
       "    </tr>\n",
       "    <tr>\n",
       "      <th>8126</th>\n",
       "      <td>Tata</td>\n",
       "      <td>25000</td>\n",
       "      <td>290000</td>\n",
       "      <td>True</td>\n",
       "      <td>False</td>\n",
       "      <td>False</td>\n",
       "      <td>False</td>\n",
       "      <td>False</td>\n",
       "      <td>False</td>\n",
       "      <td>False</td>\n",
       "    </tr>\n",
       "    <tr>\n",
       "      <th>8127</th>\n",
       "      <td>Tata</td>\n",
       "      <td>25000</td>\n",
       "      <td>290000</td>\n",
       "      <td>True</td>\n",
       "      <td>False</td>\n",
       "      <td>False</td>\n",
       "      <td>False</td>\n",
       "      <td>False</td>\n",
       "      <td>False</td>\n",
       "      <td>False</td>\n",
       "    </tr>\n",
       "  </tbody>\n",
       "</table>\n",
       "<p>8128 rows × 10 columns</p>\n",
       "</div>"
      ],
      "text/plain": [
       "        brand  km_driven  selling_price  fuel_Diesel  fuel_LPG  fuel_Petrol  \\\n",
       "0      Maruti     145500         450000         True     False        False   \n",
       "1       Skoda     120000         370000         True     False        False   \n",
       "2       Honda     140000         158000        False     False         True   \n",
       "3     Hyundai     127000         225000         True     False        False   \n",
       "4      Maruti     120000         130000        False     False         True   \n",
       "...       ...        ...            ...          ...       ...          ...   \n",
       "8123  Hyundai     110000         320000        False     False         True   \n",
       "8124  Hyundai     119000         135000         True     False        False   \n",
       "8125   Maruti     120000         382000         True     False        False   \n",
       "8126     Tata      25000         290000         True     False        False   \n",
       "8127     Tata      25000         290000         True     False        False   \n",
       "\n",
       "      owner_Fourth & Above Owner  owner_Second Owner  owner_Test Drive Car  \\\n",
       "0                          False               False                 False   \n",
       "1                          False                True                 False   \n",
       "2                          False               False                 False   \n",
       "3                          False               False                 False   \n",
       "4                          False               False                 False   \n",
       "...                          ...                 ...                   ...   \n",
       "8123                       False               False                 False   \n",
       "8124                        True               False                 False   \n",
       "8125                       False               False                 False   \n",
       "8126                       False               False                 False   \n",
       "8127                       False               False                 False   \n",
       "\n",
       "      owner_Third Owner  \n",
       "0                 False  \n",
       "1                 False  \n",
       "2                  True  \n",
       "3                 False  \n",
       "4                 False  \n",
       "...                 ...  \n",
       "8123              False  \n",
       "8124              False  \n",
       "8125              False  \n",
       "8126              False  \n",
       "8127              False  \n",
       "\n",
       "[8128 rows x 10 columns]"
      ]
     },
     "execution_count": 13,
     "metadata": {},
     "output_type": "execute_result"
    }
   ],
   "source": [
    "pd.get_dummies(df, columns= ['fuel','owner'], drop_first=True)"
   ]
  },
  {
   "cell_type": "markdown",
   "id": "b15f22af-80be-4633-8355-81ff1644d67d",
   "metadata": {
    "collapsed": true,
    "jupyter": {
     "outputs_hidden": true
    }
   },
   "source": [
    "# One Hot Enoding using Sklearn"
   ]
  },
  {
   "cell_type": "code",
   "execution_count": 20,
   "id": "33292b81-ce3f-4c54-ba49-3106c3841c07",
   "metadata": {},
   "outputs": [],
   "source": [
    "from sklearn.model_selection import train_test_split"
   ]
  },
  {
   "cell_type": "code",
   "execution_count": 23,
   "id": "6409d8d9-6bed-4be8-8941-af25847f9929",
   "metadata": {},
   "outputs": [],
   "source": [
    "X = df.drop('selling_price',axis=1)\n",
    "y = df['selling_price']"
   ]
  },
  {
   "cell_type": "code",
   "execution_count": 35,
   "id": "d2cdc1be-c261-4cd8-b285-840408f028f4",
   "metadata": {},
   "outputs": [],
   "source": [
    "X_train, X_test, y_train, y_test = train_test_split(X,y, test_size=0.20,random_state=42)"
   ]
  },
  {
   "cell_type": "code",
   "execution_count": 36,
   "id": "87928fd9-65d0-4402-8bb5-91bfbe0262b9",
   "metadata": {},
   "outputs": [],
   "source": [
    "from sklearn.preprocessing import OneHotEncoder"
   ]
  },
  {
   "cell_type": "code",
   "execution_count": 37,
   "id": "89b03501-eb95-4d4f-baf9-ef9669718957",
   "metadata": {},
   "outputs": [],
   "source": [
    "ohe = OneHotEncoder(drop='first',sparse_output=False,dtype=int)"
   ]
  },
  {
   "cell_type": "code",
   "execution_count": 38,
   "id": "6592a225-5455-4d44-83d1-56c05df6af88",
   "metadata": {},
   "outputs": [],
   "source": [
    "X_train_encoded = ohe.fit_transform(X_train[['fuel','owner']])"
   ]
  },
  {
   "cell_type": "code",
   "execution_count": 39,
   "id": "a79ee5d4-796d-4175-86be-056c796743db",
   "metadata": {},
   "outputs": [
    {
     "data": {
      "text/plain": [
       "array([[0, 0, 1, ..., 0, 0, 0],\n",
       "       [0, 0, 1, ..., 1, 0, 0],\n",
       "       [1, 0, 0, ..., 0, 0, 0],\n",
       "       ...,\n",
       "       [0, 0, 1, ..., 0, 0, 0],\n",
       "       [1, 0, 0, ..., 0, 0, 0],\n",
       "       [0, 0, 1, ..., 1, 0, 0]], shape=(6502, 7))"
      ]
     },
     "execution_count": 39,
     "metadata": {},
     "output_type": "execute_result"
    }
   ],
   "source": [
    "X_train_encoded"
   ]
  },
  {
   "cell_type": "code",
   "execution_count": 40,
   "id": "90acbe1f-31ef-4bec-a4cb-c03fd37e8cc5",
   "metadata": {},
   "outputs": [],
   "source": [
    "X_test_encoded = ohe.fit_transform(X_test[['fuel','owner']])"
   ]
  },
  {
   "cell_type": "code",
   "execution_count": 41,
   "id": "17d90dc1-b66b-42c1-9ec2-28cec76da6c4",
   "metadata": {},
   "outputs": [
    {
     "data": {
      "text/plain": [
       "array([[0, 0, 1, ..., 0, 0, 1],\n",
       "       [1, 0, 0, ..., 0, 0, 0],\n",
       "       [1, 0, 0, ..., 0, 0, 0],\n",
       "       ...,\n",
       "       [0, 0, 1, ..., 0, 0, 0],\n",
       "       [0, 0, 1, ..., 0, 0, 0],\n",
       "       [0, 0, 1, ..., 1, 0, 0]], shape=(1626, 7))"
      ]
     },
     "execution_count": 41,
     "metadata": {},
     "output_type": "execute_result"
    }
   ],
   "source": [
    "X_test_encoded"
   ]
  },
  {
   "cell_type": "code",
   "execution_count": 49,
   "id": "ca77be7b-742d-4ab0-8dd1-85dcbf5e5969",
   "metadata": {},
   "outputs": [],
   "source": [
    "new = np.hstack((X_train[['brand','km_driven']].values,X_train_encoded))"
   ]
  },
  {
   "cell_type": "code",
   "execution_count": 54,
   "id": "f57bc5ea-e6e3-4f54-b959-71a049e3b5e0",
   "metadata": {},
   "outputs": [],
   "source": [
    "df_encoded = pd.DataFrame(new, columns=['Brand','km_driven','fuel_diesel','fuel_CNG','fuel_LPG','Second_Owner','Third_Owner','Fourth_and_above_Owner','Test_Drive_Owner'])"
   ]
  },
  {
   "cell_type": "code",
   "execution_count": 55,
   "id": "ba97416c-b363-47e5-8640-f28a23346b50",
   "metadata": {
    "collapsed": true,
    "jupyter": {
     "outputs_hidden": true
    }
   },
   "outputs": [
    {
     "data": {
      "text/html": [
       "<div>\n",
       "<style scoped>\n",
       "    .dataframe tbody tr th:only-of-type {\n",
       "        vertical-align: middle;\n",
       "    }\n",
       "\n",
       "    .dataframe tbody tr th {\n",
       "        vertical-align: top;\n",
       "    }\n",
       "\n",
       "    .dataframe thead th {\n",
       "        text-align: right;\n",
       "    }\n",
       "</style>\n",
       "<table border=\"1\" class=\"dataframe\">\n",
       "  <thead>\n",
       "    <tr style=\"text-align: right;\">\n",
       "      <th></th>\n",
       "      <th>Brand</th>\n",
       "      <th>km_driven</th>\n",
       "      <th>fuel_diesel</th>\n",
       "      <th>fuel_CNG</th>\n",
       "      <th>fuel_LPG</th>\n",
       "      <th>Second_Owner</th>\n",
       "      <th>Third_Owner</th>\n",
       "      <th>Fourth_and_above_Owner</th>\n",
       "      <th>Test_Drive_Owner</th>\n",
       "    </tr>\n",
       "  </thead>\n",
       "  <tbody>\n",
       "    <tr>\n",
       "      <th>0</th>\n",
       "      <td>Tata</td>\n",
       "      <td>2560</td>\n",
       "      <td>0</td>\n",
       "      <td>0</td>\n",
       "      <td>1</td>\n",
       "      <td>0</td>\n",
       "      <td>0</td>\n",
       "      <td>0</td>\n",
       "      <td>0</td>\n",
       "    </tr>\n",
       "    <tr>\n",
       "      <th>1</th>\n",
       "      <td>Honda</td>\n",
       "      <td>80000</td>\n",
       "      <td>0</td>\n",
       "      <td>0</td>\n",
       "      <td>1</td>\n",
       "      <td>0</td>\n",
       "      <td>1</td>\n",
       "      <td>0</td>\n",
       "      <td>0</td>\n",
       "    </tr>\n",
       "    <tr>\n",
       "      <th>2</th>\n",
       "      <td>Hyundai</td>\n",
       "      <td>150000</td>\n",
       "      <td>1</td>\n",
       "      <td>0</td>\n",
       "      <td>0</td>\n",
       "      <td>1</td>\n",
       "      <td>0</td>\n",
       "      <td>0</td>\n",
       "      <td>0</td>\n",
       "    </tr>\n",
       "    <tr>\n",
       "      <th>3</th>\n",
       "      <td>Maruti</td>\n",
       "      <td>120000</td>\n",
       "      <td>1</td>\n",
       "      <td>0</td>\n",
       "      <td>0</td>\n",
       "      <td>0</td>\n",
       "      <td>1</td>\n",
       "      <td>0</td>\n",
       "      <td>0</td>\n",
       "    </tr>\n",
       "    <tr>\n",
       "      <th>4</th>\n",
       "      <td>Maruti</td>\n",
       "      <td>25000</td>\n",
       "      <td>0</td>\n",
       "      <td>0</td>\n",
       "      <td>1</td>\n",
       "      <td>0</td>\n",
       "      <td>0</td>\n",
       "      <td>0</td>\n",
       "      <td>0</td>\n",
       "    </tr>\n",
       "  </tbody>\n",
       "</table>\n",
       "</div>"
      ],
      "text/plain": [
       "     Brand km_driven fuel_diesel fuel_CNG fuel_LPG Second_Owner Third_Owner  \\\n",
       "0     Tata      2560           0        0        1            0           0   \n",
       "1    Honda     80000           0        0        1            0           1   \n",
       "2  Hyundai    150000           1        0        0            1           0   \n",
       "3   Maruti    120000           1        0        0            0           1   \n",
       "4   Maruti     25000           0        0        1            0           0   \n",
       "\n",
       "  Fourth_and_above_Owner Test_Drive_Owner  \n",
       "0                      0                0  \n",
       "1                      0                0  \n",
       "2                      0                0  \n",
       "3                      0                0  \n",
       "4                      0                0  "
      ]
     },
     "execution_count": 55,
     "metadata": {},
     "output_type": "execute_result"
    }
   ],
   "source": [
    "df_encoded.head()"
   ]
  },
  {
   "cell_type": "markdown",
   "id": "861d08d8-3627-4e54-87c3-7b117371e4ba",
   "metadata": {},
   "source": [
    "# One Hot Encoding of Brand Column in DataFrame"
   ]
  },
  {
   "cell_type": "code",
   "execution_count": 56,
   "id": "25dd49fc-b51d-4ef1-b826-3673a210f3ff",
   "metadata": {},
   "outputs": [],
   "source": [
    "count = df['brand'].value_counts()"
   ]
  },
  {
   "cell_type": "code",
   "execution_count": 64,
   "id": "3e791fb7-d1b1-4db3-934c-7b29295da1b0",
   "metadata": {},
   "outputs": [],
   "source": [
    "repl = count[count<=100].index"
   ]
  },
  {
   "cell_type": "code",
   "execution_count": 65,
   "id": "461a22aa-5865-4044-bd49-0b746aa7154c",
   "metadata": {},
   "outputs": [
    {
     "data": {
      "text/plain": [
       "Index(['Nissan', 'Jaguar', 'Volvo', 'Datsun', 'Mercedes-Benz', 'Fiat', 'Audi',\n",
       "       'Lexus', 'Jeep', 'Mitsubishi', 'Land', 'Force', 'Isuzu', 'Ambassador',\n",
       "       'Kia', 'MG', 'Daewoo', 'Ashok', 'Opel', 'Peugeot'],\n",
       "      dtype='object', name='brand')"
      ]
     },
     "execution_count": 65,
     "metadata": {},
     "output_type": "execute_result"
    }
   ],
   "source": [
    "repl"
   ]
  },
  {
   "cell_type": "code",
   "execution_count": 69,
   "id": "53781bf2-abf0-46e9-8387-8f522c6abbd5",
   "metadata": {},
   "outputs": [],
   "source": [
    "brands = pd.get_dummies(df['brand'].replace(repl,'UnCommon')).astype(int)"
   ]
  },
  {
   "cell_type": "code",
   "execution_count": 70,
   "id": "1f112c9a-55c7-4789-bf0c-4d683c562d6c",
   "metadata": {},
   "outputs": [
    {
     "data": {
      "text/html": [
       "<div>\n",
       "<style scoped>\n",
       "    .dataframe tbody tr th:only-of-type {\n",
       "        vertical-align: middle;\n",
       "    }\n",
       "\n",
       "    .dataframe tbody tr th {\n",
       "        vertical-align: top;\n",
       "    }\n",
       "\n",
       "    .dataframe thead th {\n",
       "        text-align: right;\n",
       "    }\n",
       "</style>\n",
       "<table border=\"1\" class=\"dataframe\">\n",
       "  <thead>\n",
       "    <tr style=\"text-align: right;\">\n",
       "      <th></th>\n",
       "      <th>BMW</th>\n",
       "      <th>Chevrolet</th>\n",
       "      <th>Ford</th>\n",
       "      <th>Honda</th>\n",
       "      <th>Hyundai</th>\n",
       "      <th>Mahindra</th>\n",
       "      <th>Maruti</th>\n",
       "      <th>Renault</th>\n",
       "      <th>Skoda</th>\n",
       "      <th>Tata</th>\n",
       "      <th>Toyota</th>\n",
       "      <th>UnCommon</th>\n",
       "      <th>Volkswagen</th>\n",
       "    </tr>\n",
       "  </thead>\n",
       "  <tbody>\n",
       "    <tr>\n",
       "      <th>0</th>\n",
       "      <td>0</td>\n",
       "      <td>0</td>\n",
       "      <td>0</td>\n",
       "      <td>0</td>\n",
       "      <td>0</td>\n",
       "      <td>0</td>\n",
       "      <td>1</td>\n",
       "      <td>0</td>\n",
       "      <td>0</td>\n",
       "      <td>0</td>\n",
       "      <td>0</td>\n",
       "      <td>0</td>\n",
       "      <td>0</td>\n",
       "    </tr>\n",
       "    <tr>\n",
       "      <th>1</th>\n",
       "      <td>0</td>\n",
       "      <td>0</td>\n",
       "      <td>0</td>\n",
       "      <td>0</td>\n",
       "      <td>0</td>\n",
       "      <td>0</td>\n",
       "      <td>0</td>\n",
       "      <td>0</td>\n",
       "      <td>1</td>\n",
       "      <td>0</td>\n",
       "      <td>0</td>\n",
       "      <td>0</td>\n",
       "      <td>0</td>\n",
       "    </tr>\n",
       "    <tr>\n",
       "      <th>2</th>\n",
       "      <td>0</td>\n",
       "      <td>0</td>\n",
       "      <td>0</td>\n",
       "      <td>1</td>\n",
       "      <td>0</td>\n",
       "      <td>0</td>\n",
       "      <td>0</td>\n",
       "      <td>0</td>\n",
       "      <td>0</td>\n",
       "      <td>0</td>\n",
       "      <td>0</td>\n",
       "      <td>0</td>\n",
       "      <td>0</td>\n",
       "    </tr>\n",
       "    <tr>\n",
       "      <th>3</th>\n",
       "      <td>0</td>\n",
       "      <td>0</td>\n",
       "      <td>0</td>\n",
       "      <td>0</td>\n",
       "      <td>1</td>\n",
       "      <td>0</td>\n",
       "      <td>0</td>\n",
       "      <td>0</td>\n",
       "      <td>0</td>\n",
       "      <td>0</td>\n",
       "      <td>0</td>\n",
       "      <td>0</td>\n",
       "      <td>0</td>\n",
       "    </tr>\n",
       "    <tr>\n",
       "      <th>4</th>\n",
       "      <td>0</td>\n",
       "      <td>0</td>\n",
       "      <td>0</td>\n",
       "      <td>0</td>\n",
       "      <td>0</td>\n",
       "      <td>0</td>\n",
       "      <td>1</td>\n",
       "      <td>0</td>\n",
       "      <td>0</td>\n",
       "      <td>0</td>\n",
       "      <td>0</td>\n",
       "      <td>0</td>\n",
       "      <td>0</td>\n",
       "    </tr>\n",
       "  </tbody>\n",
       "</table>\n",
       "</div>"
      ],
      "text/plain": [
       "   BMW  Chevrolet  Ford  Honda  Hyundai  Mahindra  Maruti  Renault  Skoda  \\\n",
       "0    0          0     0      0        0         0       1        0      0   \n",
       "1    0          0     0      0        0         0       0        0      1   \n",
       "2    0          0     0      1        0         0       0        0      0   \n",
       "3    0          0     0      0        1         0       0        0      0   \n",
       "4    0          0     0      0        0         0       1        0      0   \n",
       "\n",
       "   Tata  Toyota  UnCommon  Volkswagen  \n",
       "0     0       0         0           0  \n",
       "1     0       0         0           0  \n",
       "2     0       0         0           0  \n",
       "3     0       0         0           0  \n",
       "4     0       0         0           0  "
      ]
     },
     "execution_count": 70,
     "metadata": {},
     "output_type": "execute_result"
    }
   ],
   "source": [
    "brands.head(5)"
   ]
  },
  {
   "cell_type": "code",
   "execution_count": null,
   "id": "d802a134-aaaf-4ac2-8813-a5a64a73b4a1",
   "metadata": {},
   "outputs": [],
   "source": []
  }
 ],
 "metadata": {
  "kernelspec": {
   "display_name": "Python [conda env:base] *",
   "language": "python",
   "name": "conda-base-py"
  },
  "language_info": {
   "codemirror_mode": {
    "name": "ipython",
    "version": 3
   },
   "file_extension": ".py",
   "mimetype": "text/x-python",
   "name": "python",
   "nbconvert_exporter": "python",
   "pygments_lexer": "ipython3",
   "version": "3.13.5"
  }
 },
 "nbformat": 4,
 "nbformat_minor": 5
}
