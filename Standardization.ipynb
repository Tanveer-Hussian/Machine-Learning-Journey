{
 "cells": [
  {
   "cell_type": "markdown",
   "id": "41a0fd68-b8d2-404d-a476-f54701d51552",
   "metadata": {},
   "source": [
    "# Feature Scaling\n"
   ]
  },
  {
   "cell_type": "markdown",
   "id": "a3d32e3b-425d-48d8-9ab4-9d4c30ef15c3",
   "metadata": {
    "jupyter": {
     "source_hidden": true
    }
   },
   "source": [
    "**Feature scaling is a preprocessing technique that transforms values of independent features to a similar scale, ensuring all features contribute equally to the model.**\n",
    " It's 2 main methods are:\n",
    "1) Standardization\n",
    "2) Normalization"
   ]
  },
  {
   "cell_type": "markdown",
   "id": "99a8f1fe-e5d5-43d0-a41c-5808225ee239",
   "metadata": {},
   "source": [
    "# 1) Standardization"
   ]
  },
  {
   "cell_type": "markdown",
   "id": "0247bb0f-fb98-4940-ad69-c839ecb97c8a",
   "metadata": {},
   "source": [
    "**Standardization (z-score normalization) in machine learning is a preprocessing technique used to transform numerical features so that they have a mean of zero and a standard deviation of one. This ensures that all features contribute equally to the model, preventing bias caused by different scales of measurement.**\n",
    "\n",
    "**=> Formula to standardize each and every value inside a numerical independent column is:** \n",
    "\n",
    "  **X' = (Xi - X^- ) / (SD)   ==> standardized value = (original value - mean of all the values in the column) / (Standard Deviation)**\n",
    "\n",
    "  *Note:- Mean of the Standardized value will be 0 and its SD wil be 1*\n"
   ]
  },
  {
   "cell_type": "code",
   "execution_count": 55,
   "id": "a43775ba-e276-4fa0-9008-a77f5a934b5e",
   "metadata": {},
   "outputs": [],
   "source": [
    "import numpy as np \n",
    "import pandas as pd "
   ]
  },
  {
   "cell_type": "code",
   "execution_count": 56,
   "id": "a7674e1c-6a4f-473e-9db1-b1775d087e60",
   "metadata": {},
   "outputs": [],
   "source": [
    "df = pd.read_csv('Social_Network_Ads.csv')"
   ]
  },
  {
   "cell_type": "code",
   "execution_count": 57,
   "id": "58c6aa77-f16e-4c5b-8616-b54038bdd148",
   "metadata": {
    "collapsed": true,
    "jupyter": {
     "outputs_hidden": true
    },
    "scrolled": true
   },
   "outputs": [
    {
     "data": {
      "text/html": [
       "<div>\n",
       "<style scoped>\n",
       "    .dataframe tbody tr th:only-of-type {\n",
       "        vertical-align: middle;\n",
       "    }\n",
       "\n",
       "    .dataframe tbody tr th {\n",
       "        vertical-align: top;\n",
       "    }\n",
       "\n",
       "    .dataframe thead th {\n",
       "        text-align: right;\n",
       "    }\n",
       "</style>\n",
       "<table border=\"1\" class=\"dataframe\">\n",
       "  <thead>\n",
       "    <tr style=\"text-align: right;\">\n",
       "      <th></th>\n",
       "      <th>User ID</th>\n",
       "      <th>Gender</th>\n",
       "      <th>Age</th>\n",
       "      <th>EstimatedSalary</th>\n",
       "      <th>Purchased</th>\n",
       "    </tr>\n",
       "  </thead>\n",
       "  <tbody>\n",
       "    <tr>\n",
       "      <th>254</th>\n",
       "      <td>15724161</td>\n",
       "      <td>Female</td>\n",
       "      <td>50</td>\n",
       "      <td>44000</td>\n",
       "      <td>0</td>\n",
       "    </tr>\n",
       "    <tr>\n",
       "      <th>115</th>\n",
       "      <td>15689237</td>\n",
       "      <td>Male</td>\n",
       "      <td>40</td>\n",
       "      <td>57000</td>\n",
       "      <td>0</td>\n",
       "    </tr>\n",
       "    <tr>\n",
       "      <th>321</th>\n",
       "      <td>15611191</td>\n",
       "      <td>Female</td>\n",
       "      <td>53</td>\n",
       "      <td>82000</td>\n",
       "      <td>1</td>\n",
       "    </tr>\n",
       "    <tr>\n",
       "      <th>319</th>\n",
       "      <td>15623502</td>\n",
       "      <td>Male</td>\n",
       "      <td>36</td>\n",
       "      <td>60000</td>\n",
       "      <td>0</td>\n",
       "    </tr>\n",
       "    <tr>\n",
       "      <th>267</th>\n",
       "      <td>15581282</td>\n",
       "      <td>Male</td>\n",
       "      <td>37</td>\n",
       "      <td>74000</td>\n",
       "      <td>0</td>\n",
       "    </tr>\n",
       "    <tr>\n",
       "      <th>374</th>\n",
       "      <td>15793890</td>\n",
       "      <td>Female</td>\n",
       "      <td>37</td>\n",
       "      <td>80000</td>\n",
       "      <td>0</td>\n",
       "    </tr>\n",
       "    <tr>\n",
       "      <th>283</th>\n",
       "      <td>15663249</td>\n",
       "      <td>Female</td>\n",
       "      <td>52</td>\n",
       "      <td>21000</td>\n",
       "      <td>1</td>\n",
       "    </tr>\n",
       "    <tr>\n",
       "      <th>351</th>\n",
       "      <td>15591279</td>\n",
       "      <td>Male</td>\n",
       "      <td>37</td>\n",
       "      <td>75000</td>\n",
       "      <td>0</td>\n",
       "    </tr>\n",
       "    <tr>\n",
       "      <th>106</th>\n",
       "      <td>15706185</td>\n",
       "      <td>Female</td>\n",
       "      <td>26</td>\n",
       "      <td>35000</td>\n",
       "      <td>0</td>\n",
       "    </tr>\n",
       "    <tr>\n",
       "      <th>46</th>\n",
       "      <td>15798850</td>\n",
       "      <td>Male</td>\n",
       "      <td>25</td>\n",
       "      <td>79000</td>\n",
       "      <td>0</td>\n",
       "    </tr>\n",
       "  </tbody>\n",
       "</table>\n",
       "</div>"
      ],
      "text/plain": [
       "      User ID  Gender  Age  EstimatedSalary  Purchased\n",
       "254  15724161  Female   50            44000          0\n",
       "115  15689237    Male   40            57000          0\n",
       "321  15611191  Female   53            82000          1\n",
       "319  15623502    Male   36            60000          0\n",
       "267  15581282    Male   37            74000          0\n",
       "374  15793890  Female   37            80000          0\n",
       "283  15663249  Female   52            21000          1\n",
       "351  15591279    Male   37            75000          0\n",
       "106  15706185  Female   26            35000          0\n",
       "46   15798850    Male   25            79000          0"
      ]
     },
     "execution_count": 57,
     "metadata": {},
     "output_type": "execute_result"
    }
   ],
   "source": [
    "df.sample(10)"
   ]
  },
  {
   "cell_type": "code",
   "execution_count": 58,
   "id": "7265dc3b-1f60-4681-8b2e-18b9f39dead4",
   "metadata": {},
   "outputs": [],
   "source": [
    "df = df.iloc[:,2:]\n"
   ]
  },
  {
   "cell_type": "code",
   "execution_count": 59,
   "id": "ed09429d-5b33-4c58-b892-5475a5170a3a",
   "metadata": {},
   "outputs": [
    {
     "data": {
      "text/html": [
       "<div>\n",
       "<style scoped>\n",
       "    .dataframe tbody tr th:only-of-type {\n",
       "        vertical-align: middle;\n",
       "    }\n",
       "\n",
       "    .dataframe tbody tr th {\n",
       "        vertical-align: top;\n",
       "    }\n",
       "\n",
       "    .dataframe thead th {\n",
       "        text-align: right;\n",
       "    }\n",
       "</style>\n",
       "<table border=\"1\" class=\"dataframe\">\n",
       "  <thead>\n",
       "    <tr style=\"text-align: right;\">\n",
       "      <th></th>\n",
       "      <th>Age</th>\n",
       "      <th>EstimatedSalary</th>\n",
       "      <th>Purchased</th>\n",
       "    </tr>\n",
       "  </thead>\n",
       "  <tbody>\n",
       "    <tr>\n",
       "      <th>79</th>\n",
       "      <td>26</td>\n",
       "      <td>17000</td>\n",
       "      <td>0</td>\n",
       "    </tr>\n",
       "    <tr>\n",
       "      <th>200</th>\n",
       "      <td>35</td>\n",
       "      <td>39000</td>\n",
       "      <td>0</td>\n",
       "    </tr>\n",
       "    <tr>\n",
       "      <th>325</th>\n",
       "      <td>41</td>\n",
       "      <td>60000</td>\n",
       "      <td>0</td>\n",
       "    </tr>\n",
       "    <tr>\n",
       "      <th>36</th>\n",
       "      <td>33</td>\n",
       "      <td>28000</td>\n",
       "      <td>0</td>\n",
       "    </tr>\n",
       "    <tr>\n",
       "      <th>88</th>\n",
       "      <td>26</td>\n",
       "      <td>81000</td>\n",
       "      <td>0</td>\n",
       "    </tr>\n",
       "  </tbody>\n",
       "</table>\n",
       "</div>"
      ],
      "text/plain": [
       "     Age  EstimatedSalary  Purchased\n",
       "79    26            17000          0\n",
       "200   35            39000          0\n",
       "325   41            60000          0\n",
       "36    33            28000          0\n",
       "88    26            81000          0"
      ]
     },
     "execution_count": 59,
     "metadata": {},
     "output_type": "execute_result"
    }
   ],
   "source": [
    "df.sample(5)"
   ]
  },
  {
   "cell_type": "code",
   "execution_count": 60,
   "id": "ad8efa41-170e-4794-94c9-6776e6c904cc",
   "metadata": {},
   "outputs": [],
   "source": [
    "from sklearn.model_selection import train_test_split"
   ]
  },
  {
   "cell_type": "code",
   "execution_count": 63,
   "id": "ae1e74d3-9253-47ed-932c-a90afcbed100",
   "metadata": {},
   "outputs": [],
   "source": [
    "X = df.drop('Purchased', axis=1)\n",
    "y = df['Purchased']"
   ]
  },
  {
   "cell_type": "code",
   "execution_count": 70,
   "id": "79618a12-73b6-430b-81dd-adb8568aaf40",
   "metadata": {
    "jupyter": {
     "source_hidden": true
    }
   },
   "outputs": [],
   "source": [
    "\n",
    "x_train, x_test, y_train, y_test = train_test_split(X,y,train_size=0.30,random_state=42)\n"
   ]
  },
  {
   "cell_type": "code",
   "execution_count": 68,
   "id": "70f0eda1-00f4-4bdc-a046-1f5ab96cdc2e",
   "metadata": {},
   "outputs": [],
   "source": [
    "# x_train\n",
    "# y_train"
   ]
  },
  {
   "cell_type": "code",
   "execution_count": 71,
   "id": "3e9791c4-07cb-4bb8-b77b-cf61f4bb5319",
   "metadata": {},
   "outputs": [],
   "source": [
    "from sklearn.preprocessing import StandardScaler"
   ]
  },
  {
   "cell_type": "code",
   "execution_count": 75,
   "id": "683dbc8b-4e7f-48c3-bdce-68c4fbd2f413",
   "metadata": {},
   "outputs": [],
   "source": [
    "scaler = StandardScaler()\n",
    "x_scaled_train = scaler.fit_transform(x_train)\n",
    "x_scaled_test = scaler.transform(x_test)"
   ]
  },
  {
   "cell_type": "code",
   "execution_count": 92,
   "id": "0471ae59-99dc-4873-a668-44afd4e39e3a",
   "metadata": {},
   "outputs": [],
   "source": [
    "# x_scaled_train\n",
    "# x_scaled_test"
   ]
  },
  {
   "cell_type": "code",
   "execution_count": 79,
   "id": "8f04e2a6-08c2-4057-b0f8-5923b2f401b3",
   "metadata": {},
   "outputs": [],
   "source": [
    "X_train_scaled = pd.DataFrame(x_scaled_train, columns=X.columns)"
   ]
  },
  {
   "cell_type": "code",
   "execution_count": 80,
   "id": "05c7ded9-cb36-495d-93f6-7bf8389c2fa6",
   "metadata": {
    "collapsed": true,
    "jupyter": {
     "outputs_hidden": true
    }
   },
   "outputs": [
    {
     "data": {
      "text/html": [
       "<div>\n",
       "<style scoped>\n",
       "    .dataframe tbody tr th:only-of-type {\n",
       "        vertical-align: middle;\n",
       "    }\n",
       "\n",
       "    .dataframe tbody tr th {\n",
       "        vertical-align: top;\n",
       "    }\n",
       "\n",
       "    .dataframe thead th {\n",
       "        text-align: right;\n",
       "    }\n",
       "</style>\n",
       "<table border=\"1\" class=\"dataframe\">\n",
       "  <thead>\n",
       "    <tr style=\"text-align: right;\">\n",
       "      <th></th>\n",
       "      <th>Age</th>\n",
       "      <th>EstimatedSalary</th>\n",
       "    </tr>\n",
       "  </thead>\n",
       "  <tbody>\n",
       "    <tr>\n",
       "      <th>0</th>\n",
       "      <td>-1.778249</td>\n",
       "      <td>0.285110</td>\n",
       "    </tr>\n",
       "    <tr>\n",
       "      <th>1</th>\n",
       "      <td>0.320355</td>\n",
       "      <td>0.158512</td>\n",
       "    </tr>\n",
       "    <tr>\n",
       "      <th>2</th>\n",
       "      <td>0.224964</td>\n",
       "      <td>0.126862</td>\n",
       "    </tr>\n",
       "    <tr>\n",
       "      <th>3</th>\n",
       "      <td>-1.015120</td>\n",
       "      <td>0.664904</td>\n",
       "    </tr>\n",
       "    <tr>\n",
       "      <th>4</th>\n",
       "      <td>-0.156600</td>\n",
       "      <td>1.867588</td>\n",
       "    </tr>\n",
       "    <tr>\n",
       "      <th>...</th>\n",
       "      <td>...</td>\n",
       "      <td>...</td>\n",
       "    </tr>\n",
       "    <tr>\n",
       "      <th>115</th>\n",
       "      <td>-1.301294</td>\n",
       "      <td>-1.265719</td>\n",
       "    </tr>\n",
       "    <tr>\n",
       "      <th>116</th>\n",
       "      <td>-1.110511</td>\n",
       "      <td>-1.012522</td>\n",
       "    </tr>\n",
       "    <tr>\n",
       "      <th>117</th>\n",
       "      <td>0.511137</td>\n",
       "      <td>2.089135</td>\n",
       "    </tr>\n",
       "    <tr>\n",
       "      <th>118</th>\n",
       "      <td>0.129573</td>\n",
       "      <td>0.316759</td>\n",
       "    </tr>\n",
       "    <tr>\n",
       "      <th>119</th>\n",
       "      <td>-0.538165</td>\n",
       "      <td>0.601605</td>\n",
       "    </tr>\n",
       "  </tbody>\n",
       "</table>\n",
       "<p>120 rows × 2 columns</p>\n",
       "</div>"
      ],
      "text/plain": [
       "          Age  EstimatedSalary\n",
       "0   -1.778249         0.285110\n",
       "1    0.320355         0.158512\n",
       "2    0.224964         0.126862\n",
       "3   -1.015120         0.664904\n",
       "4   -0.156600         1.867588\n",
       "..        ...              ...\n",
       "115 -1.301294        -1.265719\n",
       "116 -1.110511        -1.012522\n",
       "117  0.511137         2.089135\n",
       "118  0.129573         0.316759\n",
       "119 -0.538165         0.601605\n",
       "\n",
       "[120 rows x 2 columns]"
      ]
     },
     "execution_count": 80,
     "metadata": {},
     "output_type": "execute_result"
    }
   ],
   "source": [
    "X_train_scaled"
   ]
  },
  {
   "cell_type": "code",
   "execution_count": 84,
   "id": "58f80288-e169-4df2-a916-a4dc29fc0e06",
   "metadata": {
    "collapsed": true,
    "jupyter": {
     "outputs_hidden": true
    }
   },
   "outputs": [
    {
     "data": {
      "text/html": [
       "<div>\n",
       "<style scoped>\n",
       "    .dataframe tbody tr th:only-of-type {\n",
       "        vertical-align: middle;\n",
       "    }\n",
       "\n",
       "    .dataframe tbody tr th {\n",
       "        vertical-align: top;\n",
       "    }\n",
       "\n",
       "    .dataframe thead th {\n",
       "        text-align: right;\n",
       "    }\n",
       "</style>\n",
       "<table border=\"1\" class=\"dataframe\">\n",
       "  <thead>\n",
       "    <tr style=\"text-align: right;\">\n",
       "      <th></th>\n",
       "      <th>Age</th>\n",
       "      <th>EstimatedSalary</th>\n",
       "    </tr>\n",
       "  </thead>\n",
       "  <tbody>\n",
       "    <tr>\n",
       "      <th>count</th>\n",
       "      <td>1.200000e+02</td>\n",
       "      <td>1.200000e+02</td>\n",
       "    </tr>\n",
       "    <tr>\n",
       "      <th>mean</th>\n",
       "      <td>8.881784e-17</td>\n",
       "      <td>-1.628327e-16</td>\n",
       "    </tr>\n",
       "    <tr>\n",
       "      <th>std</th>\n",
       "      <td>1.004193e+00</td>\n",
       "      <td>1.004193e+00</td>\n",
       "    </tr>\n",
       "    <tr>\n",
       "      <th>min</th>\n",
       "      <td>-1.873640e+00</td>\n",
       "      <td>-1.645513e+00</td>\n",
       "    </tr>\n",
       "    <tr>\n",
       "      <th>25%</th>\n",
       "      <td>-7.527948e-01</td>\n",
       "      <td>-7.672381e-01</td>\n",
       "    </tr>\n",
       "    <tr>\n",
       "      <th>50%</th>\n",
       "      <td>-6.120929e-02</td>\n",
       "      <td>-4.721059e-02</td>\n",
       "    </tr>\n",
       "    <tr>\n",
       "      <th>75%</th>\n",
       "      <td>8.211584e-01</td>\n",
       "      <td>5.066567e-01</td>\n",
       "    </tr>\n",
       "    <tr>\n",
       "      <th>max</th>\n",
       "      <td>2.132786e+00</td>\n",
       "      <td>2.532228e+00</td>\n",
       "    </tr>\n",
       "  </tbody>\n",
       "</table>\n",
       "</div>"
      ],
      "text/plain": [
       "                Age  EstimatedSalary\n",
       "count  1.200000e+02     1.200000e+02\n",
       "mean   8.881784e-17    -1.628327e-16\n",
       "std    1.004193e+00     1.004193e+00\n",
       "min   -1.873640e+00    -1.645513e+00\n",
       "25%   -7.527948e-01    -7.672381e-01\n",
       "50%   -6.120929e-02    -4.721059e-02\n",
       "75%    8.211584e-01     5.066567e-01\n",
       "max    2.132786e+00     2.532228e+00"
      ]
     },
     "execution_count": 84,
     "metadata": {},
     "output_type": "execute_result"
    }
   ],
   "source": [
    "X_train_scaled.describe()"
   ]
  },
  {
   "cell_type": "code",
   "execution_count": 85,
   "id": "1d8788e7-47b2-439e-9f92-0693ba153a75",
   "metadata": {},
   "outputs": [],
   "source": [
    "X_test_scaled = pd.DataFrame(x_scaled_test, columns=X.columns)"
   ]
  },
  {
   "cell_type": "code",
   "execution_count": 86,
   "id": "994a4476-f620-4f05-9947-4e16d7d6bb8c",
   "metadata": {
    "collapsed": true,
    "jupyter": {
     "outputs_hidden": true
    }
   },
   "outputs": [
    {
     "data": {
      "text/html": [
       "<div>\n",
       "<style scoped>\n",
       "    .dataframe tbody tr th:only-of-type {\n",
       "        vertical-align: middle;\n",
       "    }\n",
       "\n",
       "    .dataframe tbody tr th {\n",
       "        vertical-align: top;\n",
       "    }\n",
       "\n",
       "    .dataframe thead th {\n",
       "        text-align: right;\n",
       "    }\n",
       "</style>\n",
       "<table border=\"1\" class=\"dataframe\">\n",
       "  <thead>\n",
       "    <tr style=\"text-align: right;\">\n",
       "      <th></th>\n",
       "      <th>Age</th>\n",
       "      <th>EstimatedSalary</th>\n",
       "    </tr>\n",
       "  </thead>\n",
       "  <tbody>\n",
       "    <tr>\n",
       "      <th>0</th>\n",
       "      <td>0.797311</td>\n",
       "      <td>-1.423966</td>\n",
       "    </tr>\n",
       "    <tr>\n",
       "      <th>1</th>\n",
       "      <td>2.037395</td>\n",
       "      <td>0.664904</td>\n",
       "    </tr>\n",
       "    <tr>\n",
       "      <th>2</th>\n",
       "      <td>-0.919729</td>\n",
       "      <td>-0.727676</td>\n",
       "    </tr>\n",
       "    <tr>\n",
       "      <th>3</th>\n",
       "      <td>0.988093</td>\n",
       "      <td>0.918101</td>\n",
       "    </tr>\n",
       "    <tr>\n",
       "      <th>4</th>\n",
       "      <td>-0.824338</td>\n",
       "      <td>-1.234069</td>\n",
       "    </tr>\n",
       "    <tr>\n",
       "      <th>...</th>\n",
       "      <td>...</td>\n",
       "      <td>...</td>\n",
       "    </tr>\n",
       "    <tr>\n",
       "      <th>275</th>\n",
       "      <td>-0.442774</td>\n",
       "      <td>-0.506129</td>\n",
       "    </tr>\n",
       "    <tr>\n",
       "      <th>276</th>\n",
       "      <td>0.415746</td>\n",
       "      <td>0.095212</td>\n",
       "    </tr>\n",
       "    <tr>\n",
       "      <th>277</th>\n",
       "      <td>1.655831</td>\n",
       "      <td>1.994186</td>\n",
       "    </tr>\n",
       "    <tr>\n",
       "      <th>278</th>\n",
       "      <td>1.178875</td>\n",
       "      <td>-0.727676</td>\n",
       "    </tr>\n",
       "    <tr>\n",
       "      <th>279</th>\n",
       "      <td>0.988093</td>\n",
       "      <td>1.646041</td>\n",
       "    </tr>\n",
       "  </tbody>\n",
       "</table>\n",
       "<p>280 rows × 2 columns</p>\n",
       "</div>"
      ],
      "text/plain": [
       "          Age  EstimatedSalary\n",
       "0    0.797311        -1.423966\n",
       "1    2.037395         0.664904\n",
       "2   -0.919729        -0.727676\n",
       "3    0.988093         0.918101\n",
       "4   -0.824338        -1.234069\n",
       "..        ...              ...\n",
       "275 -0.442774        -0.506129\n",
       "276  0.415746         0.095212\n",
       "277  1.655831         1.994186\n",
       "278  1.178875        -0.727676\n",
       "279  0.988093         1.646041\n",
       "\n",
       "[280 rows x 2 columns]"
      ]
     },
     "execution_count": 86,
     "metadata": {},
     "output_type": "execute_result"
    }
   ],
   "source": [
    "X_test_scaled"
   ]
  },
  {
   "cell_type": "code",
   "execution_count": 87,
   "id": "64289338-7c8b-4b25-bd88-0a59fe55ceee",
   "metadata": {
    "collapsed": true,
    "jupyter": {
     "outputs_hidden": true,
     "source_hidden": true
    }
   },
   "outputs": [
    {
     "data": {
      "text/html": [
       "<div>\n",
       "<style scoped>\n",
       "    .dataframe tbody tr th:only-of-type {\n",
       "        vertical-align: middle;\n",
       "    }\n",
       "\n",
       "    .dataframe tbody tr th {\n",
       "        vertical-align: top;\n",
       "    }\n",
       "\n",
       "    .dataframe thead th {\n",
       "        text-align: right;\n",
       "    }\n",
       "</style>\n",
       "<table border=\"1\" class=\"dataframe\">\n",
       "  <thead>\n",
       "    <tr style=\"text-align: right;\">\n",
       "      <th></th>\n",
       "      <th>Age</th>\n",
       "      <th>EstimatedSalary</th>\n",
       "    </tr>\n",
       "  </thead>\n",
       "  <tbody>\n",
       "    <tr>\n",
       "      <th>count</th>\n",
       "      <td>280.000000</td>\n",
       "      <td>280.000000</td>\n",
       "    </tr>\n",
       "    <tr>\n",
       "      <th>mean</th>\n",
       "      <td>0.001817</td>\n",
       "      <td>0.124375</td>\n",
       "    </tr>\n",
       "    <tr>\n",
       "      <th>std</th>\n",
       "      <td>0.999961</td>\n",
       "      <td>1.109369</td>\n",
       "    </tr>\n",
       "    <tr>\n",
       "      <th>min</th>\n",
       "      <td>-1.873640</td>\n",
       "      <td>-1.645513</td>\n",
       "    </tr>\n",
       "    <tr>\n",
       "      <th>25%</th>\n",
       "      <td>-0.752795</td>\n",
       "      <td>-0.759326</td>\n",
       "    </tr>\n",
       "    <tr>\n",
       "      <th>50%</th>\n",
       "      <td>-0.061209</td>\n",
       "      <td>0.095212</td>\n",
       "    </tr>\n",
       "    <tr>\n",
       "      <th>75%</th>\n",
       "      <td>0.797311</td>\n",
       "      <td>0.672817</td>\n",
       "    </tr>\n",
       "    <tr>\n",
       "      <th>max</th>\n",
       "      <td>2.132786</td>\n",
       "      <td>2.627177</td>\n",
       "    </tr>\n",
       "  </tbody>\n",
       "</table>\n",
       "</div>"
      ],
      "text/plain": [
       "              Age  EstimatedSalary\n",
       "count  280.000000       280.000000\n",
       "mean     0.001817         0.124375\n",
       "std      0.999961         1.109369\n",
       "min     -1.873640        -1.645513\n",
       "25%     -0.752795        -0.759326\n",
       "50%     -0.061209         0.095212\n",
       "75%      0.797311         0.672817\n",
       "max      2.132786         2.627177"
      ]
     },
     "execution_count": 87,
     "metadata": {},
     "output_type": "execute_result"
    }
   ],
   "source": [
    "X_test_scaled.describe()"
   ]
  },
  {
   "cell_type": "code",
   "execution_count": 88,
   "id": "43405a5b-791f-4f69-b61a-74c9a1ae53ad",
   "metadata": {},
   "outputs": [],
   "source": [
    "import seaborn as sns"
   ]
  },
  {
   "cell_type": "code",
   "execution_count": 91,
   "id": "0aefee84-d32e-4fbd-87f7-f7f169264d2a",
   "metadata": {
    "collapsed": true,
    "jupyter": {
     "outputs_hidden": true
    }
   },
   "outputs": [
    {
     "data": {
      "text/plain": [
       "<Axes: xlabel='Age', ylabel='EstimatedSalary'>"
      ]
     },
     "execution_count": 91,
     "metadata": {},
     "output_type": "execute_result"
    },
    {
     "data": {
      "image/png": "[encoded data removed]",
      "text/plain": [
       "<Figure size 640x480 with 1 Axes>"
      ]
     },
     "metadata": {},
     "output_type": "display_data"
    }
   ],
   "source": [
    "# Before Standard Scaling\n",
    "sns.scatterplot(x=x_test['Age'], y=x_test['EstimatedSalary'])"
   ]
  },
  {
   "cell_type": "code",
   "execution_count": 90,
   "id": "aaaabdd5-fa00-424a-b9af-bb8dbc910d06",
   "metadata": {
    "collapsed": true,
    "jupyter": {
     "outputs_hidden": true
    }
   },
   "outputs": [
    {
     "data": {
      "text/plain": [
       "<Axes: xlabel='Age', ylabel='EstimatedSalary'>"
      ]
     },
     "execution_count": 90,
     "metadata": {},
     "output_type": "execute_result"
    },
    {
     "data": {
      "image/png": "[encoded data removed]",
      "text/plain": [
       "<Figure size 640x480 with 1 Axes>"
      ]
     },
     "metadata": {},
     "output_type": "display_data"
    }
   ],
   "source": [
    "# After Standard Scaling\n",
    "sns.scatterplot(x=X_test_scaled['Age'], y=X_test_scaled['EstimatedSalary'])"
   ]
  },
  {
   "cell_type": "code",
   "execution_count": null,
   "id": "2c0e5045-dfe7-4ea2-9620-a47edfde50ca",
   "metadata": {},
   "outputs": [],
   "source": []
  }
 ],
 "metadata": {
  "kernelspec": {
   "display_name": "Python [conda env:base] *",
   "language": "python",
   "name": "conda-base-py"
  },
  "language_info": {
   "codemirror_mode": {
    "name": "ipython",
    "version": 3
   },
   "file_extension": ".py",
   "mimetype": "text/x-python",
   "name": "python",
   "nbconvert_exporter": "python",
   "pygments_lexer": "ipython3",
   "version": "3.13.5"
  }
 },
 "nbformat": 4,
 "nbformat_minor": 5
}
